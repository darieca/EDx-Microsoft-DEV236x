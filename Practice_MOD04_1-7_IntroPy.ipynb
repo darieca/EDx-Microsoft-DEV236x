{
  "cells": [
    {
      "metadata": {},
      "cell_type": "markdown",
      "source": "# 1-7.2 Intro Python Practice\n## `while()` loops & increments\n<font size=\"5\" color=\"#00A0B2\"  face=\"verdana\"> <B>Student will be able to</B></font>\n- create forever loops using `while` and `break`\n- use incrementing variables in a while loop\n- control while loops using Boolean operators"
    },
    {
      "metadata": {
        "trusted": true
      },
      "cell_type": "code",
      "source": "# [ ] use a \"forever\" while loop to get user input of integers to add to sum, \n# until a non-digit is entered, then break the loop and print sum\nsum = 0\nwhile True:\n    user_input = input(\"Enter :\")\n    if not user_input.isdigit():\n        break\n    sum += int(user_input)\n\nprint(sum)",
      "execution_count": 2,
      "outputs": [
        {
          "output_type": "stream",
          "name": "stdout",
          "text": "Enter :3\nEnter :s\n3\n"
        }
      ]
    },
    {
      "metadata": {
        "trusted": true
      },
      "cell_type": "code",
      "source": "# [ ] use a while True loop (forever loop) to give 4 chances for input of a correct color in a rainbow\nrainbow = \"red orange yellow green blue indigo violet\"\ncount = 4\nwhile count > 0:\n    user_input = input(\"Enter rainbow color: \")\n    if user_input.lower() in rainbow:\n        print(user_input)\n        break\n    count -= 1\n    print(str(count), \"chance left!\" )\n",
      "execution_count": 4,
      "outputs": [
        {
          "output_type": "stream",
          "name": "stdout",
          "text": "Enter rainbow color: raklj\n3 chance left!\nEnter rainbow color: sdg\n2 chance left!\nEnter rainbow color: serth\n1 chance left!\nEnter rainbow color: sdfg\n0 chance left!\n"
        }
      ]
    },
    {
      "metadata": {
        "trusted": true
      },
      "cell_type": "code",
      "source": "# [ ] Get input for a book title, keep looping while input is Not in title format (title is every word capitalized)\ntitle = \"\"\n\nwhile not title.istitle():\n    user_input = input(\"Enter book title\")\n    if user_input.istitle():\n        title = user_input\n        break\n",
      "execution_count": 6,
      "outputs": [
        {
          "output_type": "stream",
          "name": "stdout",
          "text": "Enter book titlesadf\nEnter book titledfg\nEnter book titleLol\n"
        }
      ]
    },
    {
      "metadata": {
        "trusted": true
      },
      "cell_type": "code",
      "source": "# [ ] create a math quiz question and ask for the solution until the input is correct\nwhile True:\n    user_input = input(\"What is 1+1?\")\n    if user_input == \"2\":\n        break\n",
      "execution_count": null,
      "outputs": []
    },
    {
      "metadata": {},
      "cell_type": "markdown",
      "source": "### Fix the Error"
    },
    {
      "metadata": {
        "trusted": true
      },
      "cell_type": "code",
      "source": "# [ ] review the code, run, fix the error\ntickets = input(\"enter tickets remaining (0 to quit): \")\n\nwhile int(tickets) > 0:\n        # if tickets are multiple of 3 then \"winner\"\n    if int(tickets)/3 == int(tickets)/3:\n        print(\"you win!\")\n    else:\n        print(\"sorry, not a winner.\")\n    tickets = int(input(\"enter tickets remaining (0 to quit): \"))\n\nprint(\"Game ended\")\n    \n",
      "execution_count": 2,
      "outputs": [
        {
          "output_type": "stream",
          "name": "stdout",
          "text": "enter tickets remaining (0 to quit): 2\nyou win!\nenter tickets remaining (0 to quit): 3\nyou win!\nenter tickets remaining (0 to quit): 4\nyou win!\nenter tickets remaining (0 to quit): 0\nGame ended\n"
        }
      ]
    },
    {
      "metadata": {},
      "cell_type": "markdown",
      "source": "### create a function: quiz_item()  that asks a question and tests if input is correct  \n- quiz_item()has 2 parameter **strings**: question and solution  \n- shows question, gets answer input  \n- returns True if `answer == solution` or continues to ask question until correct answer is provided  \n- use a while loop\n\ncreate 2 or more quiz questions that call quiz_item()  \n**Hint**: provide multiple choice or T/F answers"
    },
    {
      "metadata": {
        "trusted": true
      },
      "cell_type": "code",
      "source": "# Create quiz_item() and 2 or more quiz questions that call quiz_item()\ndef quiz_item(question, solution):\n    print(question)\n    answer = input(\"what is your answer: \")\n    if answer == solution:\n        print(\"You got it!\")\n        return True\n    print(\"try again!\")\n    return False\n\nwhile True:\n     if quiz_item(input(\"Question:\"), \"2\") == True:\n             break\n    \n\n\n",
      "execution_count": 7,
      "outputs": [
        {
          "output_type": "stream",
          "name": "stdout",
          "text": "Question:askdh\naskdh\nwhat is your answer: 4\ntry again!\nQuestion:1\n1\nwhat is your answer: 3\ntry again!\nQuestion:2\n2\nwhat is your answer: 2\nYou got it!\n"
        }
      ]
    },
    {
      "metadata": {
        "collapsed": true
      },
      "cell_type": "markdown",
      "source": "[Terms of use](http://go.microsoft.com/fwlink/?LinkID=206977) &nbsp; [Privacy & cookies](https://go.microsoft.com/fwlink/?LinkId=521839) &nbsp; © 2017 Microsoft"
    }
  ],
  "metadata": {
    "anaconda-cloud": {},
    "kernelspec": {
      "name": "python3",
      "display_name": "Python 3",
      "language": "python"
    }
  },
  "nbformat": 4,
  "nbformat_minor": 1
}